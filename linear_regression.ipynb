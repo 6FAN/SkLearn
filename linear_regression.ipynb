{
  "cells": [
    {
      "cell_type": "markdown",
      "metadata": {
        "id": "view-in-github",
        "colab_type": "text"
      },
      "source": [
        "<a href=\"https://colab.research.google.com/github/6FAN/SkLearn/blob/main/linear_regression.ipynb\" target=\"_parent\"><img src=\"https://colab.research.google.com/assets/colab-badge.svg\" alt=\"Open In Colab\"/></a>"
      ]
    },
    {
      "metadata": {
        "id": "800eVzzLcsU5"
      },
      "cell_type": "markdown",
      "source": [
        "# 16Mar2024"
      ]
    },
    {
      "metadata": {
        "trusted": true,
        "id": "lx_vqEDHcsU-"
      },
      "cell_type": "code",
      "source": [
        "import pandas as pd\n",
        "import numpy as np\n",
        "import scipy\n",
        "import matplotlib.pyplot as plt\n",
        "import seaborn as sns\n",
        "import sklearn"
      ],
      "execution_count": null,
      "outputs": []
    },
    {
      "metadata": {
        "trusted": true,
        "id": "ikAylDTPcsVA",
        "outputId": "68953654-f304-4dad-d703-2972f67d9880"
      },
      "cell_type": "code",
      "source": [
        "print(dir(sklearn))"
      ],
      "execution_count": null,
      "outputs": [
        {
          "output_type": "stream",
          "text": "['__SKLEARN_SETUP__', '__all__', '__builtins__', '__cached__', '__check_build', '__doc__', '__file__', '__loader__', '__name__', '__package__', '__path__', '__spec__', '__version__', '_config', '_distributor_init', 'base', 'clone', 'config_context', 'exceptions', 'externals', 'get_config', 'logger', 'logging', 'os', 'random', 'set_config', 'setup_module', 'show_versions', 'sys', 'utils']\n",
          "name": "stdout"
        }
      ]
    },
    {
      "metadata": {
        "id": "sXcDqN_-csVB"
      },
      "cell_type": "markdown",
      "source": [
        "# 1: Linear Regression [11:42]"
      ]
    },
    {
      "metadata": {
        "id": "3UWeTnZpcsVB"
      },
      "cell_type": "markdown",
      "source": [
        "\n",
        "![image.png](attachment:image.png)"
      ]
    },
    {
      "metadata": {
        "id": "xnkft1cHcsVC"
      },
      "cell_type": "markdown",
      "source": [
        "x = xi = height\n",
        "\n",
        "y = yi = weight\n",
        "\n",
        "    m = dy/dx => y = mx + c => y = θ2X + θ1\n",
        "    \n",
        "    slope m = co.efficient\n",
        "    \n",
        "    c = θ1 = Intercept\n"
      ]
    },
    {
      "metadata": {
        "id": "tP4WqRuLcsVC"
      },
      "cell_type": "markdown",
      "source": [
        "* Linear Regression is a quiet and the simplest statistical regression method used for predictive analysis in machine Learning.\n",
        "* These are supervised algorithm used in deep Learning.\n",
        "* Linear Regression is a statistical method used to analyze the relationship between a dependent variable and one or more independent variables.\n",
        "* In linear regression, the relationship between the variables is modeled useing a linear equation.\n",
        "    * there are seversl type of linear regression\n",
        "        * simple linear regression :- single input\n",
        "        * multiple linear regression :- many input\n",
        "        * polynomial regression :- many input\n",
        "* Slop represents the change in the dependent variable for each unit change in the independent variable.\n",
        "* while the intercept represents the predicted value of the **dependent variable (y)** when the **independent variable (x)** is zero"
      ]
    },
    {
      "metadata": {
        "id": "UTUpLWgdcsVD"
      },
      "cell_type": "markdown",
      "source": [
        "![image.png](attachment:image.png)"
      ]
    },
    {
      "metadata": {
        "id": "pUvhLsQ4csVD"
      },
      "cell_type": "markdown",
      "source": [
        "* **εi** is the error of the estimate, or how much variation there is in our estimate of the regression coefficient.\n",
        "* εi = y(predicted value) - y(Actual Value)"
      ]
    },
    {
      "metadata": {
        "id": "7uhKE8lpcsVE"
      },
      "cell_type": "markdown",
      "source": [
        "# 2: Coding[52:19]"
      ]
    },
    {
      "metadata": {
        "trusted": true,
        "id": "nAJXougzcsVE",
        "outputId": "22dc916f-3074-436c-dec3-c48fa982fee3"
      },
      "cell_type": "code",
      "source": [
        "# Height is independent and input\n",
        "# Weight is dependent and output\n",
        "df = pd.read_csv('DOC-20240317-WA0039.csv')\n",
        "df"
      ],
      "execution_count": null,
      "outputs": [
        {
          "output_type": "execute_result",
          "execution_count": 3,
          "data": {
            "text/plain": "    Height  Weight\n0     1.47   52.21\n1     1.50   53.12\n2     1.52   54.48\n3     1.55   55.84\n4     1.57   57.20\n5     1.60   58.57\n6     1.63   59.93\n7     1.65   61.29\n8     1.68   63.11\n9     1.70   64.47\n10    1.73   66.28\n11    1.75   68.10\n12    1.78   69.92\n13    1.80   72.19\n14    1.83   74.46",
            "text/html": "<div>\n<style scoped>\n    .dataframe tbody tr th:only-of-type {\n        vertical-align: middle;\n    }\n\n    .dataframe tbody tr th {\n        vertical-align: top;\n    }\n\n    .dataframe thead th {\n        text-align: right;\n    }\n</style>\n<table border=\"1\" class=\"dataframe\">\n  <thead>\n    <tr style=\"text-align: right;\">\n      <th></th>\n      <th>Height</th>\n      <th>Weight</th>\n    </tr>\n  </thead>\n  <tbody>\n    <tr>\n      <th>0</th>\n      <td>1.47</td>\n      <td>52.21</td>\n    </tr>\n    <tr>\n      <th>1</th>\n      <td>1.50</td>\n      <td>53.12</td>\n    </tr>\n    <tr>\n      <th>2</th>\n      <td>1.52</td>\n      <td>54.48</td>\n    </tr>\n    <tr>\n      <th>3</th>\n      <td>1.55</td>\n      <td>55.84</td>\n    </tr>\n    <tr>\n      <th>4</th>\n      <td>1.57</td>\n      <td>57.20</td>\n    </tr>\n    <tr>\n      <th>5</th>\n      <td>1.60</td>\n      <td>58.57</td>\n    </tr>\n    <tr>\n      <th>6</th>\n      <td>1.63</td>\n      <td>59.93</td>\n    </tr>\n    <tr>\n      <th>7</th>\n      <td>1.65</td>\n      <td>61.29</td>\n    </tr>\n    <tr>\n      <th>8</th>\n      <td>1.68</td>\n      <td>63.11</td>\n    </tr>\n    <tr>\n      <th>9</th>\n      <td>1.70</td>\n      <td>64.47</td>\n    </tr>\n    <tr>\n      <th>10</th>\n      <td>1.73</td>\n      <td>66.28</td>\n    </tr>\n    <tr>\n      <th>11</th>\n      <td>1.75</td>\n      <td>68.10</td>\n    </tr>\n    <tr>\n      <th>12</th>\n      <td>1.78</td>\n      <td>69.92</td>\n    </tr>\n    <tr>\n      <th>13</th>\n      <td>1.80</td>\n      <td>72.19</td>\n    </tr>\n    <tr>\n      <th>14</th>\n      <td>1.83</td>\n      <td>74.46</td>\n    </tr>\n  </tbody>\n</table>\n</div>"
          },
          "metadata": {}
        }
      ]
    },
    {
      "metadata": {
        "trusted": true,
        "id": "0aJSQSDDcsVF",
        "outputId": "5890a52b-dece-4fe8-cf0e-a3622ef6fcbb"
      },
      "cell_type": "code",
      "source": [
        "plt.style.available"
      ],
      "execution_count": null,
      "outputs": [
        {
          "output_type": "execute_result",
          "execution_count": 4,
          "data": {
            "text/plain": "['Solarize_Light2',\n '_classic_test_patch',\n '_mpl-gallery',\n '_mpl-gallery-nogrid',\n 'bmh',\n 'classic',\n 'dark_background',\n 'fast',\n 'fivethirtyeight',\n 'ggplot',\n 'grayscale',\n 'seaborn',\n 'seaborn-bright',\n 'seaborn-colorblind',\n 'seaborn-dark',\n 'seaborn-dark-palette',\n 'seaborn-darkgrid',\n 'seaborn-deep',\n 'seaborn-muted',\n 'seaborn-notebook',\n 'seaborn-paper',\n 'seaborn-pastel',\n 'seaborn-poster',\n 'seaborn-talk',\n 'seaborn-ticks',\n 'seaborn-white',\n 'seaborn-whitegrid',\n 'tableau-colorblind10']"
          },
          "metadata": {}
        }
      ]
    },
    {
      "metadata": {
        "trusted": true,
        "id": "Zhvzlje0csVF"
      },
      "cell_type": "code",
      "source": [
        "plt.style.use('seaborn')"
      ],
      "execution_count": null,
      "outputs": []
    },
    {
      "metadata": {
        "trusted": true,
        "id": "SJgneHgPcsVF",
        "outputId": "6b832307-f445-48e3-f3f9-bc2ca8e4fcb4"
      },
      "cell_type": "code",
      "source": [
        "df.shape"
      ],
      "execution_count": null,
      "outputs": [
        {
          "output_type": "execute_result",
          "execution_count": 6,
          "data": {
            "text/plain": "(15, 2)"
          },
          "metadata": {}
        }
      ]
    },
    {
      "metadata": {
        "trusted": true,
        "id": "8IzRCTHVcsVG",
        "outputId": "445df146-1573-4a2a-8bf5-76636eab1c03"
      },
      "cell_type": "code",
      "source": [
        "df.info()"
      ],
      "execution_count": null,
      "outputs": [
        {
          "output_type": "stream",
          "text": "<class 'pandas.core.frame.DataFrame'>\nRangeIndex: 15 entries, 0 to 14\nData columns (total 2 columns):\n #   Column  Non-Null Count  Dtype  \n---  ------  --------------  -----  \n 0   Height  15 non-null     float64\n 1   Weight  15 non-null     float64\ndtypes: float64(2)\nmemory usage: 368.0 bytes\n",
          "name": "stdout"
        }
      ]
    },
    {
      "metadata": {
        "trusted": true,
        "id": "wfoX1MTscsVG",
        "outputId": "900e9a23-ba3b-41d0-899c-e13c09237cfa"
      },
      "cell_type": "code",
      "source": [
        "df.describe()"
      ],
      "execution_count": null,
      "outputs": [
        {
          "output_type": "execute_result",
          "execution_count": 8,
          "data": {
            "text/plain": "          Height     Weight\ncount  15.000000  15.000000\nmean    1.650667  62.078000\nstd     0.114235   7.037515\nmin     1.470000  52.210000\n25%     1.560000  56.520000\n50%     1.650000  61.290000\n75%     1.740000  67.190000\nmax     1.830000  74.460000",
            "text/html": "<div>\n<style scoped>\n    .dataframe tbody tr th:only-of-type {\n        vertical-align: middle;\n    }\n\n    .dataframe tbody tr th {\n        vertical-align: top;\n    }\n\n    .dataframe thead th {\n        text-align: right;\n    }\n</style>\n<table border=\"1\" class=\"dataframe\">\n  <thead>\n    <tr style=\"text-align: right;\">\n      <th></th>\n      <th>Height</th>\n      <th>Weight</th>\n    </tr>\n  </thead>\n  <tbody>\n    <tr>\n      <th>count</th>\n      <td>15.000000</td>\n      <td>15.000000</td>\n    </tr>\n    <tr>\n      <th>mean</th>\n      <td>1.650667</td>\n      <td>62.078000</td>\n    </tr>\n    <tr>\n      <th>std</th>\n      <td>0.114235</td>\n      <td>7.037515</td>\n    </tr>\n    <tr>\n      <th>min</th>\n      <td>1.470000</td>\n      <td>52.210000</td>\n    </tr>\n    <tr>\n      <th>25%</th>\n      <td>1.560000</td>\n      <td>56.520000</td>\n    </tr>\n    <tr>\n      <th>50%</th>\n      <td>1.650000</td>\n      <td>61.290000</td>\n    </tr>\n    <tr>\n      <th>75%</th>\n      <td>1.740000</td>\n      <td>67.190000</td>\n    </tr>\n    <tr>\n      <th>max</th>\n      <td>1.830000</td>\n      <td>74.460000</td>\n    </tr>\n  </tbody>\n</table>\n</div>"
          },
          "metadata": {}
        }
      ]
    },
    {
      "metadata": {
        "trusted": true,
        "id": "8XItgrg2csVH",
        "outputId": "71997c92-96d7-482a-bf01-7e5c88a6ab7e"
      },
      "cell_type": "code",
      "source": [
        "#checking null values\n",
        "df.isnull().sum()"
      ],
      "execution_count": null,
      "outputs": [
        {
          "output_type": "execute_result",
          "execution_count": 9,
          "data": {
            "text/plain": "Height    0\nWeight    0\ndtype: int64"
          },
          "metadata": {}
        }
      ]
    },
    {
      "metadata": {
        "trusted": true,
        "id": "pgcmi9nccsVH",
        "outputId": "6e392519-8717-4353-ef6c-adbcf7d4354f"
      },
      "cell_type": "code",
      "source": [
        "df.columns"
      ],
      "execution_count": null,
      "outputs": [
        {
          "output_type": "execute_result",
          "execution_count": 10,
          "data": {
            "text/plain": "Index(['Height', 'Weight'], dtype='object')"
          },
          "metadata": {}
        }
      ]
    },
    {
      "metadata": {
        "trusted": true,
        "id": "Fnz-HXzMcsVH",
        "outputId": "42726e47-c610-4d9d-8e49-c7aff5ddce6d"
      },
      "cell_type": "code",
      "source": [
        "plt.scatter(data=df, x=\"Height\", y='Weight')\n",
        "plt.xlabel(\"Height\")\n",
        "plt.ylabel(\"Weight\")\n",
        "plt.title('HEIGHT WEIGHT ANALAYSIS')"
      ],
      "execution_count": null,
      "outputs": [
        {
          "output_type": "execute_result",
          "execution_count": 11,
          "data": {
            "text/plain": "Text(0.5, 1.0, 'HEIGHT WEIGHT ANALAYSIS')"
          },
          "metadata": {}
        },
        {
          "output_type": "display_data",
          "data": {
            "text/plain": "<Figure size 800x550 with 1 Axes>",
            "image/png": "[encoded data removed]"
          },
          "metadata": {
            "image/png": {
              "width": 687,
              "height": 508
            }
          }
        }
      ]
    },
    {
      "metadata": {
        "trusted": true,
        "id": "0-QrOE-IcsVH",
        "outputId": "238bc76b-6cfb-4f31-dbb1-07030c08f6a6"
      },
      "cell_type": "code",
      "source": [
        "# x is Height independent variable\n",
        "x = df.iloc[:, 0]\n",
        "x"
      ],
      "execution_count": null,
      "outputs": [
        {
          "output_type": "execute_result",
          "execution_count": 12,
          "data": {
            "text/plain": "0     1.47\n1     1.50\n2     1.52\n3     1.55\n4     1.57\n5     1.60\n6     1.63\n7     1.65\n8     1.68\n9     1.70\n10    1.73\n11    1.75\n12    1.78\n13    1.80\n14    1.83\nName: Height, dtype: float64"
          },
          "metadata": {}
        }
      ]
    },
    {
      "metadata": {
        "trusted": true,
        "id": "7GHUj8KUcsVI",
        "outputId": "cef647b9-fdbc-42fb-cc03-8b46991283a8"
      },
      "cell_type": "code",
      "source": [
        "# y is a target variable\n",
        "# y is output\n",
        "# y is Weight\n",
        "# y is a dependent variable\n",
        "y = df.iloc[:, -1]\n",
        "y"
      ],
      "execution_count": null,
      "outputs": [
        {
          "output_type": "execute_result",
          "execution_count": 13,
          "data": {
            "text/plain": "0     52.21\n1     53.12\n2     54.48\n3     55.84\n4     57.20\n5     58.57\n6     59.93\n7     61.29\n8     63.11\n9     64.47\n10    66.28\n11    68.10\n12    69.92\n13    72.19\n14    74.46\nName: Weight, dtype: float64"
          },
          "metadata": {}
        }
      ]
    },
    {
      "metadata": {
        "id": "2v9Y0xQycsVI"
      },
      "cell_type": "markdown",
      "source": [
        "# 3: Train test split[1:14:20]"
      ]
    },
    {
      "metadata": {
        "id": "xD7xF8cycsVI"
      },
      "cell_type": "markdown",
      "source": [
        "* we need to split our dataset into training and testing sets.\n",
        "* Train more data\n",
        "* test less data\n",
        "* data = 70% 30%, 80% 20%, 75% 25% and 50% 50% this metrod is called **parado principle**\n"
      ]
    },
    {
      "metadata": {
        "id": "jPQehdgEcsVI"
      },
      "cell_type": "markdown",
      "source": [
        "**train_test_split(arrays, test_size=None, train_size=None, random_state=None, shuffle=True, stratify=None)\n",
        "    Split arrays or matrices into random train and test subsets.**"
      ]
    },
    {
      "metadata": {
        "trusted": true,
        "id": "1pE0txO0csVI"
      },
      "cell_type": "code",
      "source": [
        "from sklearn.model_selection import train_test_split\n",
        "# arrays is x and y\n",
        "# test_size is a 25% of data taken\n",
        "# random_state is take any number 21\n",
        "x_train,x_test,y_train,y_test = train_test_split(\n",
        "    x, y, test_size=0.3, random_state=21)"
      ],
      "execution_count": null,
      "outputs": []
    },
    {
      "metadata": {
        "trusted": true,
        "id": "DMFqwMFtcsVJ",
        "outputId": "d4643cbd-22d2-4a68-f455-c61fc92d9a9d"
      },
      "cell_type": "code",
      "source": [
        "x_train"
      ],
      "execution_count": null,
      "outputs": [
        {
          "output_type": "execute_result",
          "execution_count": 15,
          "data": {
            "text/plain": "1     1.50\n2     1.52\n12    1.78\n3     1.55\n13    1.80\n11    1.75\n0     1.47\n4     1.57\n8     1.68\n9     1.70\nName: Height, dtype: float64"
          },
          "metadata": {}
        }
      ]
    },
    {
      "metadata": {
        "trusted": true,
        "id": "nX7q0X4DcsVJ",
        "outputId": "8554b3fb-d4be-4bdf-a76f-9cdea082aba6"
      },
      "cell_type": "code",
      "source": [
        "x_test"
      ],
      "execution_count": null,
      "outputs": [
        {
          "output_type": "execute_result",
          "execution_count": 16,
          "data": {
            "text/plain": "14    1.83\n5     1.60\n7     1.65\n10    1.73\n6     1.63\nName: Height, dtype: float64"
          },
          "metadata": {}
        }
      ]
    },
    {
      "metadata": {
        "trusted": true,
        "id": "eSJlgN-jcsVJ",
        "outputId": "12622edf-e497-472e-90cf-1a06cd6e0b0f"
      },
      "cell_type": "code",
      "source": [
        "y_train"
      ],
      "execution_count": null,
      "outputs": [
        {
          "output_type": "execute_result",
          "execution_count": 17,
          "data": {
            "text/plain": "1     53.12\n2     54.48\n12    69.92\n3     55.84\n13    72.19\n11    68.10\n0     52.21\n4     57.20\n8     63.11\n9     64.47\nName: Weight, dtype: float64"
          },
          "metadata": {}
        }
      ]
    },
    {
      "metadata": {
        "trusted": true,
        "id": "FPo4W__gcsVJ",
        "outputId": "d7b99ff3-7457-4a0d-d9e3-4103ee51d023"
      },
      "cell_type": "code",
      "source": [
        "y_test"
      ],
      "execution_count": null,
      "outputs": [
        {
          "output_type": "execute_result",
          "execution_count": 18,
          "data": {
            "text/plain": "14    74.46\n5     58.57\n7     61.29\n10    66.28\n6     59.93\nName: Weight, dtype: float64"
          },
          "metadata": {}
        }
      ]
    },
    {
      "metadata": {
        "id": "57xqUohecsVK"
      },
      "cell_type": "markdown",
      "source": [
        "# 4: LinearRegression [1:28:17]"
      ]
    },
    {
      "metadata": {
        "id": "RtWJggVpcsVK"
      },
      "cell_type": "markdown",
      "source": [
        "# Error"
      ]
    },
    {
      "metadata": {
        "id": "8_CPKNSZcsVK"
      },
      "cell_type": "markdown",
      "source": [
        "from sklearn.linear_model import LinearRegression\n",
        "linreg=LinearRegression()\n",
        "# Calling a fit function\n",
        "linreg.fit(x_train,y_train)"
      ]
    },
    {
      "metadata": {
        "trusted": true,
        "id": "_o2uj-7GcsVK",
        "outputId": "2d76603a-0e84-4a90-c0fe-8c35e37d6507"
      },
      "cell_type": "code",
      "source": [
        "from sklearn.linear_model import LinearRegression\n",
        "linreg=LinearRegression()\n",
        "\n",
        "x_train = x_train.to_numpy().reshape(-1, 1)\n",
        "y_train = y_train.to_numpy().reshape(-1, 1)\n",
        "# Calling a fit function\n",
        "linreg.fit(x_train,y_train)"
      ],
      "execution_count": null,
      "outputs": [
        {
          "output_type": "execute_result",
          "execution_count": 19,
          "data": {
            "text/plain": "LinearRegression()",
            "text/html": "<style>#sk-container-id-1 {color: black;background-color: white;}#sk-container-id-1 pre{padding: 0;}#sk-container-id-1 div.sk-toggleable {background-color: white;}#sk-container-id-1 label.sk-toggleable__label {cursor: pointer;display: block;width: 100%;margin-bottom: 0;padding: 0.3em;box-sizing: border-box;text-align: center;}#sk-container-id-1 label.sk-toggleable__label-arrow:before {content: \"▸\";float: left;margin-right: 0.25em;color: #696969;}#sk-container-id-1 label.sk-toggleable__label-arrow:hover:before {color: black;}#sk-container-id-1 div.sk-estimator:hover label.sk-toggleable__label-arrow:before {color: black;}#sk-container-id-1 div.sk-toggleable__content {max-height: 0;max-width: 0;overflow: hidden;text-align: left;background-color: #f0f8ff;}#sk-container-id-1 div.sk-toggleable__content pre {margin: 0.2em;color: black;border-radius: 0.25em;background-color: #f0f8ff;}#sk-container-id-1 input.sk-toggleable__control:checked~div.sk-toggleable__content {max-height: 200px;max-width: 100%;overflow: auto;}#sk-container-id-1 input.sk-toggleable__control:checked~label.sk-toggleable__label-arrow:before {content: \"▾\";}#sk-container-id-1 div.sk-estimator input.sk-toggleable__control:checked~label.sk-toggleable__label {background-color: #d4ebff;}#sk-container-id-1 div.sk-label input.sk-toggleable__control:checked~label.sk-toggleable__label {background-color: #d4ebff;}#sk-container-id-1 input.sk-hidden--visually {border: 0;clip: rect(1px 1px 1px 1px);clip: rect(1px, 1px, 1px, 1px);height: 1px;margin: -1px;overflow: hidden;padding: 0;position: absolute;width: 1px;}#sk-container-id-1 div.sk-estimator {font-family: monospace;background-color: #f0f8ff;border: 1px dotted black;border-radius: 0.25em;box-sizing: border-box;margin-bottom: 0.5em;}#sk-container-id-1 div.sk-estimator:hover {background-color: #d4ebff;}#sk-container-id-1 div.sk-parallel-item::after {content: \"\";width: 100%;border-bottom: 1px solid gray;flex-grow: 1;}#sk-container-id-1 div.sk-label:hover label.sk-toggleable__label {background-color: #d4ebff;}#sk-container-id-1 div.sk-serial::before {content: \"\";position: absolute;border-left: 1px solid gray;box-sizing: border-box;top: 0;bottom: 0;left: 50%;z-index: 0;}#sk-container-id-1 div.sk-serial {display: flex;flex-direction: column;align-items: center;background-color: white;padding-right: 0.2em;padding-left: 0.2em;position: relative;}#sk-container-id-1 div.sk-item {position: relative;z-index: 1;}#sk-container-id-1 div.sk-parallel {display: flex;align-items: stretch;justify-content: center;background-color: white;position: relative;}#sk-container-id-1 div.sk-item::before, #sk-container-id-1 div.sk-parallel-item::before {content: \"\";position: absolute;border-left: 1px solid gray;box-sizing: border-box;top: 0;bottom: 0;left: 50%;z-index: -1;}#sk-container-id-1 div.sk-parallel-item {display: flex;flex-direction: column;z-index: 1;position: relative;background-color: white;}#sk-container-id-1 div.sk-parallel-item:first-child::after {align-self: flex-end;width: 50%;}#sk-container-id-1 div.sk-parallel-item:last-child::after {align-self: flex-start;width: 50%;}#sk-container-id-1 div.sk-parallel-item:only-child::after {width: 0;}#sk-container-id-1 div.sk-dashed-wrapped {border: 1px dashed gray;margin: 0 0.4em 0.5em 0.4em;box-sizing: border-box;padding-bottom: 0.4em;background-color: white;}#sk-container-id-1 div.sk-label label {font-family: monospace;font-weight: bold;display: inline-block;line-height: 1.2em;}#sk-container-id-1 div.sk-label-container {text-align: center;}#sk-container-id-1 div.sk-container {/* jupyter's `normalize.less` sets `[hidden] { display: none; }` but bootstrap.min.css set `[hidden] { display: none !important; }` so we also need the `!important` here to be able to override the default hidden behavior on the sphinx rendered scikit-learn.org. See: https://github.com/scikit-learn/scikit-learn/issues/21755 */display: inline-block !important;position: relative;}#sk-container-id-1 div.sk-text-repr-fallback {display: none;}</style><div id=\"sk-container-id-1\" class=\"sk-top-container\"><div class=\"sk-text-repr-fallback\"><pre>LinearRegression()</pre><b>In a Jupyter environment, please rerun this cell to show the HTML representation or trust the notebook. <br />On GitHub, the HTML representation is unable to render, please try loading this page with nbviewer.org.</b></div><div class=\"sk-container\" hidden><div class=\"sk-item\"><div class=\"sk-estimator sk-toggleable\"><input class=\"sk-toggleable__control sk-hidden--visually\" id=\"sk-estimator-id-1\" type=\"checkbox\" checked><label for=\"sk-estimator-id-1\" class=\"sk-toggleable__label sk-toggleable__label-arrow\">LinearRegression</label><div class=\"sk-toggleable__content\"><pre>LinearRegression()</pre></div></div></div></div></div>"
          },
          "metadata": {}
        }
      ]
    },
    {
      "metadata": {
        "trusted": true,
        "id": "yPHgNZDncsVK",
        "outputId": "a455edfc-ef2a-4771-e968-345a31ac96a3"
      },
      "cell_type": "code",
      "source": [
        "# intercept_\n",
        "print(linreg.intercept_)"
      ],
      "execution_count": null,
      "outputs": [
        {
          "output_type": "stream",
          "text": "[-36.41317073]\n",
          "name": "stdout"
        }
      ]
    },
    {
      "metadata": {
        "trusted": true,
        "id": "l3ZPcFDjcsVL",
        "outputId": "22689ebc-6095-4e52-d221-a7e958939b07"
      },
      "cell_type": "code",
      "source": [
        "# Coef\n",
        "print(linreg.coef_)"
      ],
      "execution_count": null,
      "outputs": [
        {
          "output_type": "stream",
          "text": "[[59.72865854]]\n",
          "name": "stdout"
        }
      ]
    },
    {
      "metadata": {
        "trusted": true,
        "id": "CKgzZwcccsVL",
        "outputId": "28b80976-3993-4b94-f560-98b4aa4551a4"
      },
      "cell_type": "code",
      "source": [
        "#Predicted data\n",
        "x_test = np.array(x_test).reshape(-1, 1)\n",
        "ypredict = linreg.predict(x_test)\n",
        "ypredict"
      ],
      "execution_count": null,
      "outputs": [
        {
          "output_type": "execute_result",
          "execution_count": 22,
          "data": {
            "text/plain": "array([[72.89027439],\n       [59.15268293],\n       [62.13911585],\n       [66.91740854],\n       [60.94454268]])"
          },
          "metadata": {}
        }
      ]
    },
    {
      "metadata": {
        "trusted": true,
        "id": "FG9gyXsucsVL",
        "outputId": "497f1719-eff2-4043-e030-c762c44ff980"
      },
      "cell_type": "code",
      "source": [
        "#actual data\n",
        "y_test"
      ],
      "execution_count": null,
      "outputs": [
        {
          "output_type": "execute_result",
          "execution_count": 23,
          "data": {
            "text/plain": "14    74.46\n5     58.57\n7     61.29\n10    66.28\n6     59.93\nName: Weight, dtype: float64"
          },
          "metadata": {}
        }
      ]
    },
    {
      "metadata": {
        "id": "GtSb7hKscsVM"
      },
      "cell_type": "markdown",
      "source": [
        "# 5: εi (error)[1:33:25]"
      ]
    },
    {
      "metadata": {
        "trusted": true,
        "id": "C5Spa822csVM"
      },
      "cell_type": "code",
      "source": [
        "y_test = np.array(y_test).reshape(-1, 1)"
      ],
      "execution_count": null,
      "outputs": []
    },
    {
      "metadata": {
        "trusted": true,
        "id": "M6htdBWWcsVN",
        "outputId": "23b35895-25f1-4aa3-b0c7-2efd056fb1f9"
      },
      "cell_type": "code",
      "source": [
        "err = y_test - ypredict\n",
        "err"
      ],
      "execution_count": null,
      "outputs": [
        {
          "output_type": "execute_result",
          "execution_count": 25,
          "data": {
            "text/plain": "array([[ 1.56972561],\n       [-0.58268293],\n       [-0.84911585],\n       [-0.63740854],\n       [-1.01454268]])"
          },
          "metadata": {}
        }
      ]
    },
    {
      "metadata": {
        "trusted": true,
        "id": "VLCQ0BuZcsVN",
        "outputId": "161cfb4c-a10b-423f-84c1-a3c16d373abf"
      },
      "cell_type": "code",
      "source": [
        "#actual data\n",
        "plt.scatter(x_test, y_test, color='red')\n",
        "# predicted data\n",
        "plt.plot(x_test, ypredict, color='green')\n",
        "plt.title(\"WEIDHT PREDICTION\")\n",
        "plt.xlabel(\"HEIGHT\")\n",
        "plt.ylabel(\"WEIGHT\")"
      ],
      "execution_count": null,
      "outputs": [
        {
          "output_type": "execute_result",
          "execution_count": 26,
          "data": {
            "text/plain": "Text(0, 0.5, 'WEIGHT')"
          },
          "metadata": {}
        },
        {
          "output_type": "display_data",
          "data": {
            "text/plain": "<Figure size 800x550 with 1 Axes>",
            "image/png": "[encoded data removed]"
          },
          "metadata": {
            "image/png": {
              "width": 687,
              "height": 508
            }
          }
        }
      ]
    },
    {
      "metadata": {
        "id": "11fYHP3ycsVN"
      },
      "cell_type": "markdown",
      "source": [
        "# 6: Evaluation Metrics[1:35:00]"
      ]
    },
    {
      "metadata": {
        "id": "hOSyaxEkcsVO"
      },
      "cell_type": "markdown",
      "source": [
        "* The objective of Linear Regression is to find a line that minimizes the prediction error of all the data points.\n",
        "* To minimizes the Error\n",
        "    * Mean Squared Error (MSE)\n",
        "    * Mean Absolute Error (MAE)\n",
        "    * Root Mean Squared Error (RMSE)\n",
        "    * R-Squared or Coefficient"
      ]
    },
    {
      "metadata": {
        "id": "l84qI4vecsVO"
      },
      "cell_type": "markdown",
      "source": [
        "![image-2.jpeg](attachment:image-2.jpeg)"
      ]
    },
    {
      "metadata": {
        "trusted": true,
        "id": "Bq6GPKG4csVP",
        "outputId": "5632a424-e072-49d4-b4e0-67cfbde68efd"
      },
      "cell_type": "code",
      "source": [
        "from sklearn import metrics\n",
        "MAE = metrics.mean_absolute_error(y_test, ypredict)\n",
        "print(f\"Mean Absolute Error : {MAE}\")\n",
        "MSE = metrics.mean_squared_error(y_test, ypredict)\n",
        "print(f'Mean Squared Error : {MSE}')\n",
        "RMSE = np.sqrt(MSE)\n",
        "print(F'Root Mean Squared Error : {RMSE}')"
      ],
      "execution_count": null,
      "outputs": [
        {
          "output_type": "stream",
          "text": "Mean Absolute Error : 0.9306951219512143\nMean Squared Error : 0.9920284228137952\nRoot Mean Squared Error : 0.9960062363327828\n",
          "name": "stdout"
        }
      ]
    },
    {
      "metadata": {
        "trusted": true,
        "id": "Pd3zwhKfcsVP",
        "outputId": "c52a6042-815b-4dc0-c205-f75e576f970d"
      },
      "cell_type": "code",
      "source": [
        "R2 = metrics.r2_score(y_test, ypredict)\n",
        "print(f'The R2 score is : {R2*100}%')"
      ],
      "execution_count": null,
      "outputs": [
        {
          "output_type": "stream",
          "text": "The R2 score is : 97.04661539074839%\n",
          "name": "stdout"
        }
      ]
    },
    {
      "metadata": {
        "trusted": true,
        "id": "dcukzR1RcsVQ"
      },
      "cell_type": "code",
      "source": [],
      "execution_count": null,
      "outputs": []
    }
  ],
  "metadata": {
    "kernelspec": {
      "name": "python3",
      "display_name": "Python 3",
      "language": "python"
    },
    "language_info": {
      "name": "python",
      "version": "3.10.4",
      "mimetype": "text/x-python",
      "codemirror_mode": {
        "name": "ipython",
        "version": 3
      },
      "pygments_lexer": "ipython3",
      "nbconvert_exporter": "python",
      "file_extension": ".py"
    },
    "colab": {
      "provenance": [],
      "include_colab_link": true
    }
  },
  "nbformat": 4,
  "nbformat_minor": 0
}